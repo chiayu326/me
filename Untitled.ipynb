{
 "cells": [
  {
   "cell_type": "markdown",
   "id": "58da5d8a-eb97-4cec-aa15-98fc9ea165da",
   "metadata": {
    "editable": true,
    "slideshow": {
     "slide_type": "slide"
    },
    "tags": []
   },
   "source": [
    "## Hello World!"
   ]
  },
  {
   "cell_type": "code",
   "execution_count": 6,
   "id": "80958046-a643-4c0d-b0c8-fe953a1f4eb9",
   "metadata": {
    "editable": true,
    "slideshow": {
     "slide_type": "subslide"
    },
    "tags": []
   },
   "outputs": [
    {
     "data": {
      "text/plain": [
       "2"
      ]
     },
     "execution_count": 6,
     "metadata": {},
     "output_type": "execute_result"
    }
   ],
   "source": [
    "1+1"
   ]
  },
  {
   "cell_type": "markdown",
   "id": "32613053-48c2-468b-b7ed-6bfe4c374423",
   "metadata": {
    "editable": true,
    "slideshow": {
     "slide_type": "slide"
    },
    "tags": []
   },
   "source": [
    "## New Test"
   ]
  },
  {
   "cell_type": "code",
   "execution_count": 13,
   "id": "da845580-1f18-4eae-87a5-17578f055a9d",
   "metadata": {
    "editable": true,
    "slideshow": {
     "slide_type": "subslide"
    },
    "tags": []
   },
   "outputs": [],
   "source": [
    "def plus_one(a):\n",
    "    a+=1\n",
    "    return a"
   ]
  },
  {
   "cell_type": "code",
   "execution_count": 14,
   "id": "60f5dbc7-b109-478b-b8ab-3e12ae8fb1ec",
   "metadata": {
    "editable": true,
    "slideshow": {
     "slide_type": "subslide"
    },
    "tags": []
   },
   "outputs": [
    {
     "data": {
      "text/plain": [
       "3"
      ]
     },
     "execution_count": 14,
     "metadata": {},
     "output_type": "execute_result"
    }
   ],
   "source": [
    "plus_one(2)"
   ]
  },
  {
   "cell_type": "markdown",
   "id": "4d8ab312-355b-4acd-a87a-9589b5ffd725",
   "metadata": {
    "editable": true,
    "slideshow": {
     "slide_type": "slide"
    },
    "tags": []
   },
   "source": [
    "Test 2"
   ]
  },
  {
   "cell_type": "code",
   "execution_count": 15,
   "id": "682324f7-0b5d-44f5-a1d7-1fed4783bbab",
   "metadata": {
    "editable": true,
    "slideshow": {
     "slide_type": "subslide"
    },
    "tags": []
   },
   "outputs": [
    {
     "data": {
      "text/plain": [
       "2"
      ]
     },
     "execution_count": 15,
     "metadata": {},
     "output_type": "execute_result"
    }
   ],
   "source": [
    "a+1"
   ]
  },
  {
   "cell_type": "code",
   "execution_count": 16,
   "id": "c6c1472e-a989-4dda-b4e8-b15afeab1ac5",
   "metadata": {
    "editable": true,
    "slideshow": {
     "slide_type": "skip"
    },
    "tags": []
   },
   "outputs": [],
   "source": [
    "def seven():\n",
    "    a=1\n",
    "    a+=1\n",
    "    a+=1\n",
    "    a+=1\n",
    "    a+=1\n",
    "    a+=1\n",
    "    a+=1\n",
    "    a+=1\n",
    "    return a"
   ]
  },
  {
   "cell_type": "code",
   "execution_count": 12,
   "id": "9837c29b-17ab-4e45-b989-eedef1c4016f",
   "metadata": {
    "editable": true,
    "slideshow": {
     "slide_type": ""
    },
    "tags": []
   },
   "outputs": [
    {
     "data": {
      "text/plain": [
       "8"
      ]
     },
     "execution_count": 12,
     "metadata": {},
     "output_type": "execute_result"
    }
   ],
   "source": [
    "seven()"
   ]
  },
  {
   "cell_type": "code",
   "execution_count": null,
   "id": "d2ac33c9-7803-4156-af99-c6b90b8cd64a",
   "metadata": {},
   "outputs": [],
   "source": []
  }
 ],
 "metadata": {
  "kernelspec": {
   "display_name": "Python 3 (ipykernel)",
   "language": "python",
   "name": "python3"
  },
  "language_info": {
   "codemirror_mode": {
    "name": "ipython",
    "version": 3
   },
   "file_extension": ".py",
   "mimetype": "text/x-python",
   "name": "python",
   "nbconvert_exporter": "python",
   "pygments_lexer": "ipython3",
   "version": "3.12.3"
  }
 },
 "nbformat": 4,
 "nbformat_minor": 5
}
